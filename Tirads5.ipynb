{
  "cells": [
    {
      "cell_type": "code",
      "execution_count": 1,
      "metadata": {
        "id": "_VrBGx5sHMN2"
      },
      "outputs": [],
      "source": [
        "import pandas as pd\n",
        "import numpy as np\n",
        "\n",
        "import torch\n",
        "import torchvision\n",
        "\n",
        "import matplotlib.pylab as plt\n",
        "import seaborn as sns\n",
        "\n",
        "import os\n",
        "import time\n",
        "\n",
        "from torch import nn\n",
        "from torchvision import transforms\n",
        "from torch.utils.data import DataLoader\n",
        "from torchvision.datasets import ImageFolder\n",
        "\n",
        "from tqdm.auto import tqdm\n",
        "\n",
        "from shutil import move\n",
        "\n",
        "from PIL import Image\n",
        "\n",
        "from sklearn.model_selection import train_test_split\n",
        "\n",
        "from google.colab import drive"
      ]
    },
    {
      "cell_type": "code",
      "execution_count": 2,
      "metadata": {
        "colab": {
          "base_uri": "https://localhost:8080/"
        },
        "id": "NeETqoe_HyyO",
        "outputId": "e05a113e-7e1f-43e9-dc77-5de29346621e"
      },
      "outputs": [
        {
          "name": "stdout",
          "output_type": "stream",
          "text": [
            "Mounted at /content/gdrive\n"
          ]
        }
      ],
      "source": [
        "drive.mount('/content/gdrive')"
      ]
    },
    {
      "cell_type": "markdown",
      "metadata": {
        "id": "-m72sjhZ_21l"
      },
      "source": [
        "# Изучаем dataframe"
      ]
    },
    {
      "cell_type": "code",
      "execution_count": null,
      "metadata": {
        "colab": {
          "base_uri": "https://localhost:8080/"
        },
        "id": "6oUT-BkMAAJ0",
        "outputId": "4c9e58ed-5931-43ff-a53b-531a45959ac6"
      },
      "outputs": [
        {
          "data": {
            "text/plain": [
              "(48, 2)"
            ]
          },
          "execution_count": 243,
          "metadata": {},
          "output_type": "execute_result"
        }
      ],
      "source": [
        "df = pd.read_excel('/content/gdrive/MyDrive/Tirads/classes.xlsx')\n",
        "df.shape"
      ]
    },
    {
      "cell_type": "code",
      "execution_count": null,
      "metadata": {
        "colab": {
          "base_uri": "https://localhost:8080/"
        },
        "id": "xDgRTIR7ACzD",
        "outputId": "2f6485c6-f8f3-4402-bd89-82b865f67d54"
      },
      "outputs": [
        {
          "data": {
            "text/plain": [
              "5    22\n",
              "4    13\n",
              "3    10\n",
              "2     3\n",
              "Name: Узел ЩЖ, TIRADS, dtype: int64"
            ]
          },
          "execution_count": 244,
          "metadata": {},
          "output_type": "execute_result"
        }
      ],
      "source": [
        "df['Узел ЩЖ, TIRADS'].value_counts()"
      ]
    },
    {
      "cell_type": "code",
      "execution_count": null,
      "metadata": {
        "id": "NszHPccVALwH"
      },
      "outputs": [],
      "source": [
        "df.columns = ['index', 'Tirads']"
      ]
    },
    {
      "cell_type": "code",
      "execution_count": null,
      "metadata": {
        "colab": {
          "base_uri": "https://localhost:8080/"
        },
        "id": "AVXpP4OtAT3i",
        "outputId": "451874ff-ada2-4952-926d-3e2797134c5f"
      },
      "outputs": [
        {
          "data": {
            "text/html": [
              "\n",
              "  <div id=\"df-ffbf6a19-a087-4db1-b34c-22b81edf473b\" class=\"colab-df-container\">\n",
              "    <div>\n",
              "<style scoped>\n",
              "    .dataframe tbody tr th:only-of-type {\n",
              "        vertical-align: middle;\n",
              "    }\n",
              "\n",
              "    .dataframe tbody tr th {\n",
              "        vertical-align: top;\n",
              "    }\n",
              "\n",
              "    .dataframe thead th {\n",
              "        text-align: right;\n",
              "    }\n",
              "</style>\n",
              "<table border=\"1\" class=\"dataframe\">\n",
              "  <thead>\n",
              "    <tr style=\"text-align: right;\">\n",
              "      <th></th>\n",
              "      <th>Tirads</th>\n",
              "    </tr>\n",
              "    <tr>\n",
              "      <th>index</th>\n",
              "      <th></th>\n",
              "    </tr>\n",
              "  </thead>\n",
              "  <tbody>\n",
              "    <tr>\n",
              "      <th>178</th>\n",
              "      <td>4</td>\n",
              "    </tr>\n",
              "    <tr>\n",
              "      <th>179</th>\n",
              "      <td>5</td>\n",
              "    </tr>\n",
              "    <tr>\n",
              "      <th>180</th>\n",
              "      <td>3</td>\n",
              "    </tr>\n",
              "    <tr>\n",
              "      <th>181</th>\n",
              "      <td>5</td>\n",
              "    </tr>\n",
              "    <tr>\n",
              "      <th>182</th>\n",
              "      <td>3</td>\n",
              "    </tr>\n",
              "  </tbody>\n",
              "</table>\n",
              "</div>\n",
              "    <div class=\"colab-df-buttons\">\n",
              "\n",
              "  <div class=\"colab-df-container\">\n",
              "    <button class=\"colab-df-convert\" onclick=\"convertToInteractive('df-ffbf6a19-a087-4db1-b34c-22b81edf473b')\"\n",
              "            title=\"Convert this dataframe to an interactive table.\"\n",
              "            style=\"display:none;\">\n",
              "\n",
              "  <svg xmlns=\"http://www.w3.org/2000/svg\" height=\"24px\" viewBox=\"0 -960 960 960\">\n",
              "    <path d=\"M120-120v-720h720v720H120Zm60-500h600v-160H180v160Zm220 220h160v-160H400v160Zm0 220h160v-160H400v160ZM180-400h160v-160H180v160Zm440 0h160v-160H620v160ZM180-180h160v-160H180v160Zm440 0h160v-160H620v160Z\"/>\n",
              "  </svg>\n",
              "    </button>\n",
              "\n",
              "  <style>\n",
              "    .colab-df-container {\n",
              "      display:flex;\n",
              "      gap: 12px;\n",
              "    }\n",
              "\n",
              "    .colab-df-convert {\n",
              "      background-color: #E8F0FE;\n",
              "      border: none;\n",
              "      border-radius: 50%;\n",
              "      cursor: pointer;\n",
              "      display: none;\n",
              "      fill: #1967D2;\n",
              "      height: 32px;\n",
              "      padding: 0 0 0 0;\n",
              "      width: 32px;\n",
              "    }\n",
              "\n",
              "    .colab-df-convert:hover {\n",
              "      background-color: #E2EBFA;\n",
              "      box-shadow: 0px 1px 2px rgba(60, 64, 67, 0.3), 0px 1px 3px 1px rgba(60, 64, 67, 0.15);\n",
              "      fill: #174EA6;\n",
              "    }\n",
              "\n",
              "    .colab-df-buttons div {\n",
              "      margin-bottom: 4px;\n",
              "    }\n",
              "\n",
              "    [theme=dark] .colab-df-convert {\n",
              "      background-color: #3B4455;\n",
              "      fill: #D2E3FC;\n",
              "    }\n",
              "\n",
              "    [theme=dark] .colab-df-convert:hover {\n",
              "      background-color: #434B5C;\n",
              "      box-shadow: 0px 1px 3px 1px rgba(0, 0, 0, 0.15);\n",
              "      filter: drop-shadow(0px 1px 2px rgba(0, 0, 0, 0.3));\n",
              "      fill: #FFFFFF;\n",
              "    }\n",
              "  </style>\n",
              "\n",
              "    <script>\n",
              "      const buttonEl =\n",
              "        document.querySelector('#df-ffbf6a19-a087-4db1-b34c-22b81edf473b button.colab-df-convert');\n",
              "      buttonEl.style.display =\n",
              "        google.colab.kernel.accessAllowed ? 'block' : 'none';\n",
              "\n",
              "      async function convertToInteractive(key) {\n",
              "        const element = document.querySelector('#df-ffbf6a19-a087-4db1-b34c-22b81edf473b');\n",
              "        const dataTable =\n",
              "          await google.colab.kernel.invokeFunction('convertToInteractive',\n",
              "                                                    [key], {});\n",
              "        if (!dataTable) return;\n",
              "\n",
              "        const docLinkHtml = 'Like what you see? Visit the ' +\n",
              "          '<a target=\"_blank\" href=https://colab.research.google.com/notebooks/data_table.ipynb>data table notebook</a>'\n",
              "          + ' to learn more about interactive tables.';\n",
              "        element.innerHTML = '';\n",
              "        dataTable['output_type'] = 'display_data';\n",
              "        await google.colab.output.renderOutput(dataTable, element);\n",
              "        const docLink = document.createElement('div');\n",
              "        docLink.innerHTML = docLinkHtml;\n",
              "        element.appendChild(docLink);\n",
              "      }\n",
              "    </script>\n",
              "  </div>\n",
              "\n",
              "\n",
              "<div id=\"df-ac9077e2-921d-41d8-ab9a-b1dece5e911e\">\n",
              "  <button class=\"colab-df-quickchart\" onclick=\"quickchart('df-ac9077e2-921d-41d8-ab9a-b1dece5e911e')\"\n",
              "            title=\"Suggest charts.\"\n",
              "            style=\"display:none;\">\n",
              "\n",
              "<svg xmlns=\"http://www.w3.org/2000/svg\" height=\"24px\"viewBox=\"0 0 24 24\"\n",
              "     width=\"24px\">\n",
              "    <g>\n",
              "        <path d=\"M19 3H5c-1.1 0-2 .9-2 2v14c0 1.1.9 2 2 2h14c1.1 0 2-.9 2-2V5c0-1.1-.9-2-2-2zM9 17H7v-7h2v7zm4 0h-2V7h2v10zm4 0h-2v-4h2v4z\"/>\n",
              "    </g>\n",
              "</svg>\n",
              "  </button>\n",
              "\n",
              "<style>\n",
              "  .colab-df-quickchart {\n",
              "    background-color: #E8F0FE;\n",
              "    border: none;\n",
              "    border-radius: 50%;\n",
              "    cursor: pointer;\n",
              "    display: none;\n",
              "    fill: #1967D2;\n",
              "    height: 32px;\n",
              "    padding: 0 0 0 0;\n",
              "    width: 32px;\n",
              "  }\n",
              "\n",
              "  .colab-df-quickchart:hover {\n",
              "    background-color: #E2EBFA;\n",
              "    box-shadow: 0px 1px 2px rgba(60, 64, 67, 0.3), 0px 1px 3px 1px rgba(60, 64, 67, 0.15);\n",
              "    fill: #174EA6;\n",
              "  }\n",
              "\n",
              "  [theme=dark] .colab-df-quickchart {\n",
              "    background-color: #3B4455;\n",
              "    fill: #D2E3FC;\n",
              "  }\n",
              "\n",
              "  [theme=dark] .colab-df-quickchart:hover {\n",
              "    background-color: #434B5C;\n",
              "    box-shadow: 0px 1px 3px 1px rgba(0, 0, 0, 0.15);\n",
              "    filter: drop-shadow(0px 1px 2px rgba(0, 0, 0, 0.3));\n",
              "    fill: #FFFFFF;\n",
              "  }\n",
              "</style>\n",
              "\n",
              "  <script>\n",
              "    async function quickchart(key) {\n",
              "      const charts = await google.colab.kernel.invokeFunction(\n",
              "          'suggestCharts', [key], {});\n",
              "    }\n",
              "    (() => {\n",
              "      let quickchartButtonEl =\n",
              "        document.querySelector('#df-ac9077e2-921d-41d8-ab9a-b1dece5e911e button');\n",
              "      quickchartButtonEl.style.display =\n",
              "        google.colab.kernel.accessAllowed ? 'block' : 'none';\n",
              "    })();\n",
              "  </script>\n",
              "</div>\n",
              "    </div>\n",
              "  </div>\n"
            ],
            "text/plain": [
              "       Tirads\n",
              "index        \n",
              "178         4\n",
              "179         5\n",
              "180         3\n",
              "181         5\n",
              "182         3"
            ]
          },
          "execution_count": 246,
          "metadata": {},
          "output_type": "execute_result"
        }
      ],
      "source": [
        "df = df.set_index('index')\n",
        "df.head()"
      ]
    },
    {
      "cell_type": "code",
      "execution_count": null,
      "metadata": {
        "id": "pBauO74wA5yF"
      },
      "outputs": [],
      "source": [
        "df = df.squeeze()"
      ]
    },
    {
      "cell_type": "code",
      "execution_count": null,
      "metadata": {
        "colab": {
          "base_uri": "https://localhost:8080/"
        },
        "id": "euKWk3k7B3M6",
        "outputId": "6396d7cd-d99c-476e-a3f8-9e16e8e2d809"
      },
      "outputs": [
        {
          "data": {
            "text/plain": [
              "index\n",
              "178    4\n",
              "179    5\n",
              "180    3\n",
              "181    5\n",
              "182    3\n",
              "Name: Tirads, dtype: int64"
            ]
          },
          "execution_count": 248,
          "metadata": {},
          "output_type": "execute_result"
        }
      ],
      "source": [
        "df.head()"
      ]
    },
    {
      "cell_type": "code",
      "execution_count": null,
      "metadata": {
        "colab": {
          "base_uri": "https://localhost:8080/"
        },
        "id": "9Ddr081HBonM",
        "outputId": "ac9e3373-a390-4415-a24d-f92d6662f569"
      },
      "outputs": [
        {
          "data": {
            "text/plain": [
              "5    22\n",
              "4    13\n",
              "3    10\n",
              "2     3\n",
              "Name: Tirads, dtype: int64"
            ]
          },
          "execution_count": 249,
          "metadata": {},
          "output_type": "execute_result"
        }
      ],
      "source": [
        "df.value_counts()"
      ]
    },
    {
      "cell_type": "code",
      "execution_count": null,
      "metadata": {
        "colab": {
          "base_uri": "https://localhost:8080/"
        },
        "id": "O7yiaq1gB72m",
        "outputId": "2f7aeb5f-d098-412c-bcf2-0bbfd6866c3f"
      },
      "outputs": [
        {
          "data": {
            "text/plain": [
              "3"
            ]
          },
          "execution_count": 250,
          "metadata": {},
          "output_type": "execute_result"
        }
      ],
      "source": [
        "df[180]"
      ]
    },
    {
      "cell_type": "markdown",
      "metadata": {
        "id": "RqcQoulf25F8"
      },
      "source": [
        "# Извлечение данных из TIFF"
      ]
    },
    {
      "cell_type": "code",
      "execution_count": 4,
      "metadata": {
        "colab": {
          "base_uri": "https://localhost:8080/",
          "height": 545
        },
        "id": "nbI9vV1oKZDT",
        "outputId": "4b538a63-7b4e-4c6a-8c48-d5d79cb98c2a"
      },
      "outputs": [
        {
          "data": {
            "image/png": "[encoded data removed]",
            "text/plain": [
              "<PIL.TiffImagePlugin.TiffImageFile image mode=L size=687x528>"
            ]
          },
          "execution_count": 4,
          "metadata": {},
          "output_type": "execute_result"
        }
      ],
      "source": [
        "example = \"/content/gdrive/MyDrive/Tirads/data/178/178_TIRADS4_long.tif\"\n",
        "Image.open(example)"
      ]
    },
    {
      "cell_type": "code",
      "execution_count": null,
      "metadata": {
        "id": "8pqmRRO82RQ_"
      },
      "outputs": [],
      "source": [
        "path='/content/gdrive/MyDrive/Tirads'"
      ]
    },
    {
      "cell_type": "code",
      "execution_count": null,
      "metadata": {
        "id": "VtNMsWxJ2-0P"
      },
      "outputs": [],
      "source": [
        "def parse_tif(filePath: str, savePath: str):\n",
        "  img = Image.open(filePath)\n",
        "  #print(img.n_frames)\n",
        "  name = filePath.split('/')[-1][:-4]\n",
        "  for i in range (0, img.n_frames, 5):\n",
        "      img.seek(i)\n",
        "      newName = f'{name}_{i}.tif'\n",
        "      #print(os.path.join(savePath, newName))\n",
        "      img.save(os.path.join(savePath, newName))\n",
        "      #print(f'{name}_{i}.tif')"
      ]
    },
    {
      "cell_type": "code",
      "execution_count": null,
      "metadata": {
        "id": "Hc9nKAyt34KE"
      },
      "outputs": [],
      "source": [
        "for subdir, dirs, files in os.walk(os.path.join(path, 'data')):\n",
        "    for file in files:\n",
        "      filePath=os.path.join(subdir, file)\n",
        "      if not('mask' in filePath) and not('add' in filePath):\n",
        "        parse_tif(filePath, os.path.join(path, 'Extracted'))"
      ]
    },
    {
      "cell_type": "markdown",
      "metadata": {
        "id": "xPGOG8uvUZw0"
      },
      "source": [
        "# Создание тренировочной и тестовой выборки"
      ]
    },
    {
      "cell_type": "code",
      "execution_count": null,
      "metadata": {
        "id": "rbg0tAksaQwd"
      },
      "outputs": [],
      "source": [
        "path='/content/gdrive/MyDrive/Tirads'"
      ]
    },
    {
      "cell_type": "code",
      "execution_count": null,
      "metadata": {
        "id": "n57g56QLD_Ia"
      },
      "outputs": [],
      "source": [
        "pathExtracted = os.path.join(path, 'Extracted')\n",
        "files = []\n",
        "classes = []\n",
        "for fileName in os.listdir(pathExtracted):\n",
        "  filePath = os.path.join(pathExtracted, fileName)\n",
        "  if os.path.isfile(filePath):\n",
        "    index = int(fileName.split('_')[0])\n",
        "    files.append(filePath)\n",
        "    classes.append(df[index])"
      ]
    },
    {
      "cell_type": "code",
      "execution_count": null,
      "metadata": {
        "id": "_5VqaM9FF0-l"
      },
      "outputs": [],
      "source": [
        "data = {\n",
        "    'FilePath': files,\n",
        "    'Tirads': classes\n",
        "}\n",
        "dfExtracted = pd.DataFrame(data)"
      ]
    },
    {
      "cell_type": "code",
      "execution_count": null,
      "metadata": {
        "colab": {
          "base_uri": "https://localhost:8080/",
          "height": 206
        },
        "id": "GMJAlcQZGW-s",
        "outputId": "d8ea472c-9b2c-4ba3-dfab-4d78866f43be"
      },
      "outputs": [
        {
          "data": {
            "text/html": [
              "\n",
              "  <div id=\"df-a579295a-d4bd-45aa-9ff7-2c723c826d64\" class=\"colab-df-container\">\n",
              "    <div>\n",
              "<style scoped>\n",
              "    .dataframe tbody tr th:only-of-type {\n",
              "        vertical-align: middle;\n",
              "    }\n",
              "\n",
              "    .dataframe tbody tr th {\n",
              "        vertical-align: top;\n",
              "    }\n",
              "\n",
              "    .dataframe thead th {\n",
              "        text-align: right;\n",
              "    }\n",
              "</style>\n",
              "<table border=\"1\" class=\"dataframe\">\n",
              "  <thead>\n",
              "    <tr style=\"text-align: right;\">\n",
              "      <th></th>\n",
              "      <th>FilePath</th>\n",
              "      <th>Tirads</th>\n",
              "    </tr>\n",
              "  </thead>\n",
              "  <tbody>\n",
              "    <tr>\n",
              "      <th>0</th>\n",
              "      <td>/content/gdrive/MyDrive/Tirads/Extracted/180_T...</td>\n",
              "      <td>3</td>\n",
              "    </tr>\n",
              "    <tr>\n",
              "      <th>1</th>\n",
              "      <td>/content/gdrive/MyDrive/Tirads/Extracted/180_T...</td>\n",
              "      <td>3</td>\n",
              "    </tr>\n",
              "    <tr>\n",
              "      <th>2</th>\n",
              "      <td>/content/gdrive/MyDrive/Tirads/Extracted/180_T...</td>\n",
              "      <td>3</td>\n",
              "    </tr>\n",
              "    <tr>\n",
              "      <th>3</th>\n",
              "      <td>/content/gdrive/MyDrive/Tirads/Extracted/180_T...</td>\n",
              "      <td>3</td>\n",
              "    </tr>\n",
              "    <tr>\n",
              "      <th>4</th>\n",
              "      <td>/content/gdrive/MyDrive/Tirads/Extracted/180_T...</td>\n",
              "      <td>3</td>\n",
              "    </tr>\n",
              "  </tbody>\n",
              "</table>\n",
              "</div>\n",
              "    <div class=\"colab-df-buttons\">\n",
              "\n",
              "  <div class=\"colab-df-container\">\n",
              "    <button class=\"colab-df-convert\" onclick=\"convertToInteractive('df-a579295a-d4bd-45aa-9ff7-2c723c826d64')\"\n",
              "            title=\"Convert this dataframe to an interactive table.\"\n",
              "            style=\"display:none;\">\n",
              "\n",
              "  <svg xmlns=\"http://www.w3.org/2000/svg\" height=\"24px\" viewBox=\"0 -960 960 960\">\n",
              "    <path d=\"M120-120v-720h720v720H120Zm60-500h600v-160H180v160Zm220 220h160v-160H400v160Zm0 220h160v-160H400v160ZM180-400h160v-160H180v160Zm440 0h160v-160H620v160ZM180-180h160v-160H180v160Zm440 0h160v-160H620v160Z\"/>\n",
              "  </svg>\n",
              "    </button>\n",
              "\n",
              "  <style>\n",
              "    .colab-df-container {\n",
              "      display:flex;\n",
              "      gap: 12px;\n",
              "    }\n",
              "\n",
              "    .colab-df-convert {\n",
              "      background-color: #E8F0FE;\n",
              "      border: none;\n",
              "      border-radius: 50%;\n",
              "      cursor: pointer;\n",
              "      display: none;\n",
              "      fill: #1967D2;\n",
              "      height: 32px;\n",
              "      padding: 0 0 0 0;\n",
              "      width: 32px;\n",
              "    }\n",
              "\n",
              "    .colab-df-convert:hover {\n",
              "      background-color: #E2EBFA;\n",
              "      box-shadow: 0px 1px 2px rgba(60, 64, 67, 0.3), 0px 1px 3px 1px rgba(60, 64, 67, 0.15);\n",
              "      fill: #174EA6;\n",
              "    }\n",
              "\n",
              "    .colab-df-buttons div {\n",
              "      margin-bottom: 4px;\n",
              "    }\n",
              "\n",
              "    [theme=dark] .colab-df-convert {\n",
              "      background-color: #3B4455;\n",
              "      fill: #D2E3FC;\n",
              "    }\n",
              "\n",
              "    [theme=dark] .colab-df-convert:hover {\n",
              "      background-color: #434B5C;\n",
              "      box-shadow: 0px 1px 3px 1px rgba(0, 0, 0, 0.15);\n",
              "      filter: drop-shadow(0px 1px 2px rgba(0, 0, 0, 0.3));\n",
              "      fill: #FFFFFF;\n",
              "    }\n",
              "  </style>\n",
              "\n",
              "    <script>\n",
              "      const buttonEl =\n",
              "        document.querySelector('#df-a579295a-d4bd-45aa-9ff7-2c723c826d64 button.colab-df-convert');\n",
              "      buttonEl.style.display =\n",
              "        google.colab.kernel.accessAllowed ? 'block' : 'none';\n",
              "\n",
              "      async function convertToInteractive(key) {\n",
              "        const element = document.querySelector('#df-a579295a-d4bd-45aa-9ff7-2c723c826d64');\n",
              "        const dataTable =\n",
              "          await google.colab.kernel.invokeFunction('convertToInteractive',\n",
              "                                                    [key], {});\n",
              "        if (!dataTable) return;\n",
              "\n",
              "        const docLinkHtml = 'Like what you see? Visit the ' +\n",
              "          '<a target=\"_blank\" href=https://colab.research.google.com/notebooks/data_table.ipynb>data table notebook</a>'\n",
              "          + ' to learn more about interactive tables.';\n",
              "        element.innerHTML = '';\n",
              "        dataTable['output_type'] = 'display_data';\n",
              "        await google.colab.output.renderOutput(dataTable, element);\n",
              "        const docLink = document.createElement('div');\n",
              "        docLink.innerHTML = docLinkHtml;\n",
              "        element.appendChild(docLink);\n",
              "      }\n",
              "    </script>\n",
              "  </div>\n",
              "\n",
              "\n",
              "<div id=\"df-26131257-8b45-4ab0-a42e-971d4b124613\">\n",
              "  <button class=\"colab-df-quickchart\" onclick=\"quickchart('df-26131257-8b45-4ab0-a42e-971d4b124613')\"\n",
              "            title=\"Suggest charts.\"\n",
              "            style=\"display:none;\">\n",
              "\n",
              "<svg xmlns=\"http://www.w3.org/2000/svg\" height=\"24px\"viewBox=\"0 0 24 24\"\n",
              "     width=\"24px\">\n",
              "    <g>\n",
              "        <path d=\"M19 3H5c-1.1 0-2 .9-2 2v14c0 1.1.9 2 2 2h14c1.1 0 2-.9 2-2V5c0-1.1-.9-2-2-2zM9 17H7v-7h2v7zm4 0h-2V7h2v10zm4 0h-2v-4h2v4z\"/>\n",
              "    </g>\n",
              "</svg>\n",
              "  </button>\n",
              "\n",
              "<style>\n",
              "  .colab-df-quickchart {\n",
              "    background-color: #E8F0FE;\n",
              "    border: none;\n",
              "    border-radius: 50%;\n",
              "    cursor: pointer;\n",
              "    display: none;\n",
              "    fill: #1967D2;\n",
              "    height: 32px;\n",
              "    padding: 0 0 0 0;\n",
              "    width: 32px;\n",
              "  }\n",
              "\n",
              "  .colab-df-quickchart:hover {\n",
              "    background-color: #E2EBFA;\n",
              "    box-shadow: 0px 1px 2px rgba(60, 64, 67, 0.3), 0px 1px 3px 1px rgba(60, 64, 67, 0.15);\n",
              "    fill: #174EA6;\n",
              "  }\n",
              "\n",
              "  [theme=dark] .colab-df-quickchart {\n",
              "    background-color: #3B4455;\n",
              "    fill: #D2E3FC;\n",
              "  }\n",
              "\n",
              "  [theme=dark] .colab-df-quickchart:hover {\n",
              "    background-color: #434B5C;\n",
              "    box-shadow: 0px 1px 3px 1px rgba(0, 0, 0, 0.15);\n",
              "    filter: drop-shadow(0px 1px 2px rgba(0, 0, 0, 0.3));\n",
              "    fill: #FFFFFF;\n",
              "  }\n",
              "</style>\n",
              "\n",
              "  <script>\n",
              "    async function quickchart(key) {\n",
              "      const charts = await google.colab.kernel.invokeFunction(\n",
              "          'suggestCharts', [key], {});\n",
              "    }\n",
              "    (() => {\n",
              "      let quickchartButtonEl =\n",
              "        document.querySelector('#df-26131257-8b45-4ab0-a42e-971d4b124613 button');\n",
              "      quickchartButtonEl.style.display =\n",
              "        google.colab.kernel.accessAllowed ? 'block' : 'none';\n",
              "    })();\n",
              "  </script>\n",
              "</div>\n",
              "    </div>\n",
              "  </div>\n"
            ],
            "text/plain": [
              "                                            FilePath  Tirads\n",
              "0  /content/gdrive/MyDrive/Tirads/Extracted/180_T...       3\n",
              "1  /content/gdrive/MyDrive/Tirads/Extracted/180_T...       3\n",
              "2  /content/gdrive/MyDrive/Tirads/Extracted/180_T...       3\n",
              "3  /content/gdrive/MyDrive/Tirads/Extracted/180_T...       3\n",
              "4  /content/gdrive/MyDrive/Tirads/Extracted/180_T...       3"
            ]
          },
          "execution_count": 257,
          "metadata": {},
          "output_type": "execute_result"
        }
      ],
      "source": [
        "dfExtracted.head()"
      ]
    },
    {
      "cell_type": "code",
      "execution_count": null,
      "metadata": {
        "id": "DAtkUbIqGY03"
      },
      "outputs": [],
      "source": [
        "def classify(Tirads):\n",
        "  if Tirads == 5:\n",
        "    return 1\n",
        "  return 0"
      ]
    },
    {
      "cell_type": "code",
      "execution_count": null,
      "metadata": {
        "colab": {
          "base_uri": "https://localhost:8080/",
          "height": 206
        },
        "id": "JENikvGeG_LA",
        "outputId": "1aaecaf5-2d34-4a39-9e02-a81951a2084b"
      },
      "outputs": [
        {
          "data": {
            "text/html": [
              "\n",
              "  <div id=\"df-d8f18a4b-bf5f-4a8a-b5e8-b14dc1768d39\" class=\"colab-df-container\">\n",
              "    <div>\n",
              "<style scoped>\n",
              "    .dataframe tbody tr th:only-of-type {\n",
              "        vertical-align: middle;\n",
              "    }\n",
              "\n",
              "    .dataframe tbody tr th {\n",
              "        vertical-align: top;\n",
              "    }\n",
              "\n",
              "    .dataframe thead th {\n",
              "        text-align: right;\n",
              "    }\n",
              "</style>\n",
              "<table border=\"1\" class=\"dataframe\">\n",
              "  <thead>\n",
              "    <tr style=\"text-align: right;\">\n",
              "      <th></th>\n",
              "      <th>FilePath</th>\n",
              "      <th>Tirads</th>\n",
              "    </tr>\n",
              "  </thead>\n",
              "  <tbody>\n",
              "    <tr>\n",
              "      <th>0</th>\n",
              "      <td>/content/gdrive/MyDrive/Tirads/Extracted/180_T...</td>\n",
              "      <td>0</td>\n",
              "    </tr>\n",
              "    <tr>\n",
              "      <th>1</th>\n",
              "      <td>/content/gdrive/MyDrive/Tirads/Extracted/180_T...</td>\n",
              "      <td>0</td>\n",
              "    </tr>\n",
              "    <tr>\n",
              "      <th>2</th>\n",
              "      <td>/content/gdrive/MyDrive/Tirads/Extracted/180_T...</td>\n",
              "      <td>0</td>\n",
              "    </tr>\n",
              "    <tr>\n",
              "      <th>3</th>\n",
              "      <td>/content/gdrive/MyDrive/Tirads/Extracted/180_T...</td>\n",
              "      <td>0</td>\n",
              "    </tr>\n",
              "    <tr>\n",
              "      <th>4</th>\n",
              "      <td>/content/gdrive/MyDrive/Tirads/Extracted/180_T...</td>\n",
              "      <td>0</td>\n",
              "    </tr>\n",
              "  </tbody>\n",
              "</table>\n",
              "</div>\n",
              "    <div class=\"colab-df-buttons\">\n",
              "\n",
              "  <div class=\"colab-df-container\">\n",
              "    <button class=\"colab-df-convert\" onclick=\"convertToInteractive('df-d8f18a4b-bf5f-4a8a-b5e8-b14dc1768d39')\"\n",
              "            title=\"Convert this dataframe to an interactive table.\"\n",
              "            style=\"display:none;\">\n",
              "\n",
              "  <svg xmlns=\"http://www.w3.org/2000/svg\" height=\"24px\" viewBox=\"0 -960 960 960\">\n",
              "    <path d=\"M120-120v-720h720v720H120Zm60-500h600v-160H180v160Zm220 220h160v-160H400v160Zm0 220h160v-160H400v160ZM180-400h160v-160H180v160Zm440 0h160v-160H620v160ZM180-180h160v-160H180v160Zm440 0h160v-160H620v160Z\"/>\n",
              "  </svg>\n",
              "    </button>\n",
              "\n",
              "  <style>\n",
              "    .colab-df-container {\n",
              "      display:flex;\n",
              "      gap: 12px;\n",
              "    }\n",
              "\n",
              "    .colab-df-convert {\n",
              "      background-color: #E8F0FE;\n",
              "      border: none;\n",
              "      border-radius: 50%;\n",
              "      cursor: pointer;\n",
              "      display: none;\n",
              "      fill: #1967D2;\n",
              "      height: 32px;\n",
              "      padding: 0 0 0 0;\n",
              "      width: 32px;\n",
              "    }\n",
              "\n",
              "    .colab-df-convert:hover {\n",
              "      background-color: #E2EBFA;\n",
              "      box-shadow: 0px 1px 2px rgba(60, 64, 67, 0.3), 0px 1px 3px 1px rgba(60, 64, 67, 0.15);\n",
              "      fill: #174EA6;\n",
              "    }\n",
              "\n",
              "    .colab-df-buttons div {\n",
              "      margin-bottom: 4px;\n",
              "    }\n",
              "\n",
              "    [theme=dark] .colab-df-convert {\n",
              "      background-color: #3B4455;\n",
              "      fill: #D2E3FC;\n",
              "    }\n",
              "\n",
              "    [theme=dark] .colab-df-convert:hover {\n",
              "      background-color: #434B5C;\n",
              "      box-shadow: 0px 1px 3px 1px rgba(0, 0, 0, 0.15);\n",
              "      filter: drop-shadow(0px 1px 2px rgba(0, 0, 0, 0.3));\n",
              "      fill: #FFFFFF;\n",
              "    }\n",
              "  </style>\n",
              "\n",
              "    <script>\n",
              "      const buttonEl =\n",
              "        document.querySelector('#df-d8f18a4b-bf5f-4a8a-b5e8-b14dc1768d39 button.colab-df-convert');\n",
              "      buttonEl.style.display =\n",
              "        google.colab.kernel.accessAllowed ? 'block' : 'none';\n",
              "\n",
              "      async function convertToInteractive(key) {\n",
              "        const element = document.querySelector('#df-d8f18a4b-bf5f-4a8a-b5e8-b14dc1768d39');\n",
              "        const dataTable =\n",
              "          await google.colab.kernel.invokeFunction('convertToInteractive',\n",
              "                                                    [key], {});\n",
              "        if (!dataTable) return;\n",
              "\n",
              "        const docLinkHtml = 'Like what you see? Visit the ' +\n",
              "          '<a target=\"_blank\" href=https://colab.research.google.com/notebooks/data_table.ipynb>data table notebook</a>'\n",
              "          + ' to learn more about interactive tables.';\n",
              "        element.innerHTML = '';\n",
              "        dataTable['output_type'] = 'display_data';\n",
              "        await google.colab.output.renderOutput(dataTable, element);\n",
              "        const docLink = document.createElement('div');\n",
              "        docLink.innerHTML = docLinkHtml;\n",
              "        element.appendChild(docLink);\n",
              "      }\n",
              "    </script>\n",
              "  </div>\n",
              "\n",
              "\n",
              "<div id=\"df-c8fb382d-4522-4953-99b5-bde1ae6dd1a1\">\n",
              "  <button class=\"colab-df-quickchart\" onclick=\"quickchart('df-c8fb382d-4522-4953-99b5-bde1ae6dd1a1')\"\n",
              "            title=\"Suggest charts.\"\n",
              "            style=\"display:none;\">\n",
              "\n",
              "<svg xmlns=\"http://www.w3.org/2000/svg\" height=\"24px\"viewBox=\"0 0 24 24\"\n",
              "     width=\"24px\">\n",
              "    <g>\n",
              "        <path d=\"M19 3H5c-1.1 0-2 .9-2 2v14c0 1.1.9 2 2 2h14c1.1 0 2-.9 2-2V5c0-1.1-.9-2-2-2zM9 17H7v-7h2v7zm4 0h-2V7h2v10zm4 0h-2v-4h2v4z\"/>\n",
              "    </g>\n",
              "</svg>\n",
              "  </button>\n",
              "\n",
              "<style>\n",
              "  .colab-df-quickchart {\n",
              "    background-color: #E8F0FE;\n",
              "    border: none;\n",
              "    border-radius: 50%;\n",
              "    cursor: pointer;\n",
              "    display: none;\n",
              "    fill: #1967D2;\n",
              "    height: 32px;\n",
              "    padding: 0 0 0 0;\n",
              "    width: 32px;\n",
              "  }\n",
              "\n",
              "  .colab-df-quickchart:hover {\n",
              "    background-color: #E2EBFA;\n",
              "    box-shadow: 0px 1px 2px rgba(60, 64, 67, 0.3), 0px 1px 3px 1px rgba(60, 64, 67, 0.15);\n",
              "    fill: #174EA6;\n",
              "  }\n",
              "\n",
              "  [theme=dark] .colab-df-quickchart {\n",
              "    background-color: #3B4455;\n",
              "    fill: #D2E3FC;\n",
              "  }\n",
              "\n",
              "  [theme=dark] .colab-df-quickchart:hover {\n",
              "    background-color: #434B5C;\n",
              "    box-shadow: 0px 1px 3px 1px rgba(0, 0, 0, 0.15);\n",
              "    filter: drop-shadow(0px 1px 2px rgba(0, 0, 0, 0.3));\n",
              "    fill: #FFFFFF;\n",
              "  }\n",
              "</style>\n",
              "\n",
              "  <script>\n",
              "    async function quickchart(key) {\n",
              "      const charts = await google.colab.kernel.invokeFunction(\n",
              "          'suggestCharts', [key], {});\n",
              "    }\n",
              "    (() => {\n",
              "      let quickchartButtonEl =\n",
              "        document.querySelector('#df-c8fb382d-4522-4953-99b5-bde1ae6dd1a1 button');\n",
              "      quickchartButtonEl.style.display =\n",
              "        google.colab.kernel.accessAllowed ? 'block' : 'none';\n",
              "    })();\n",
              "  </script>\n",
              "</div>\n",
              "    </div>\n",
              "  </div>\n"
            ],
            "text/plain": [
              "                                            FilePath  Tirads\n",
              "0  /content/gdrive/MyDrive/Tirads/Extracted/180_T...       0\n",
              "1  /content/gdrive/MyDrive/Tirads/Extracted/180_T...       0\n",
              "2  /content/gdrive/MyDrive/Tirads/Extracted/180_T...       0\n",
              "3  /content/gdrive/MyDrive/Tirads/Extracted/180_T...       0\n",
              "4  /content/gdrive/MyDrive/Tirads/Extracted/180_T...       0"
            ]
          },
          "execution_count": 259,
          "metadata": {},
          "output_type": "execute_result"
        }
      ],
      "source": [
        "dfExtracted['Tirads'] = dfExtracted['Tirads'].apply(classify)\n",
        "dfExtracted.head()"
      ]
    },
    {
      "cell_type": "code",
      "execution_count": null,
      "metadata": {
        "colab": {
          "base_uri": "https://localhost:8080/"
        },
        "id": "kc_IjgNiHFzu",
        "outputId": "edcc4a34-1b98-4c51-cfa0-e98abcbe24bb"
      },
      "outputs": [
        {
          "data": {
            "text/plain": [
              "0    831\n",
              "1    675\n",
              "Name: Tirads, dtype: int64"
            ]
          },
          "execution_count": 260,
          "metadata": {},
          "output_type": "execute_result"
        }
      ],
      "source": [
        "dfExtracted['Tirads'].value_counts()"
      ]
    },
    {
      "cell_type": "code",
      "execution_count": null,
      "metadata": {
        "id": "pa0kBZ34I6G6"
      },
      "outputs": [],
      "source": [
        "dfExtracted.to_csv('/content/gdrive/MyDrive/Tirads/dataframe.csv', index=False)"
      ]
    },
    {
      "cell_type": "code",
      "execution_count": null,
      "metadata": {
        "colab": {
          "base_uri": "https://localhost:8080/"
        },
        "id": "UiudmBeaH-UR",
        "outputId": "f5f58306-6bc4-45da-dc5a-6aff31821ac9"
      },
      "outputs": [
        {
          "data": {
            "text/plain": [
              "(1506, 2)"
            ]
          },
          "execution_count": 262,
          "metadata": {},
          "output_type": "execute_result"
        }
      ],
      "source": [
        "df = pd.read_csv('/content/gdrive/MyDrive/Tirads/dataframe.csv')\n",
        "df.shape"
      ]
    },
    {
      "cell_type": "code",
      "execution_count": null,
      "metadata": {
        "colab": {
          "base_uri": "https://localhost:8080/",
          "height": 206
        },
        "id": "MnIMIoHfJVI6",
        "outputId": "2668357c-f866-4ba5-9800-fe76466e29a3"
      },
      "outputs": [
        {
          "data": {
            "text/html": [
              "\n",
              "  <div id=\"df-110d197b-9f2b-4677-b997-bc0105c7a131\" class=\"colab-df-container\">\n",
              "    <div>\n",
              "<style scoped>\n",
              "    .dataframe tbody tr th:only-of-type {\n",
              "        vertical-align: middle;\n",
              "    }\n",
              "\n",
              "    .dataframe tbody tr th {\n",
              "        vertical-align: top;\n",
              "    }\n",
              "\n",
              "    .dataframe thead th {\n",
              "        text-align: right;\n",
              "    }\n",
              "</style>\n",
              "<table border=\"1\" class=\"dataframe\">\n",
              "  <thead>\n",
              "    <tr style=\"text-align: right;\">\n",
              "      <th></th>\n",
              "      <th>FilePath</th>\n",
              "      <th>Tirads</th>\n",
              "    </tr>\n",
              "  </thead>\n",
              "  <tbody>\n",
              "    <tr>\n",
              "      <th>0</th>\n",
              "      <td>/content/gdrive/MyDrive/Tirads/Extracted/180_T...</td>\n",
              "      <td>0</td>\n",
              "    </tr>\n",
              "    <tr>\n",
              "      <th>1</th>\n",
              "      <td>/content/gdrive/MyDrive/Tirads/Extracted/180_T...</td>\n",
              "      <td>0</td>\n",
              "    </tr>\n",
              "    <tr>\n",
              "      <th>2</th>\n",
              "      <td>/content/gdrive/MyDrive/Tirads/Extracted/180_T...</td>\n",
              "      <td>0</td>\n",
              "    </tr>\n",
              "    <tr>\n",
              "      <th>3</th>\n",
              "      <td>/content/gdrive/MyDrive/Tirads/Extracted/180_T...</td>\n",
              "      <td>0</td>\n",
              "    </tr>\n",
              "    <tr>\n",
              "      <th>4</th>\n",
              "      <td>/content/gdrive/MyDrive/Tirads/Extracted/180_T...</td>\n",
              "      <td>0</td>\n",
              "    </tr>\n",
              "  </tbody>\n",
              "</table>\n",
              "</div>\n",
              "    <div class=\"colab-df-buttons\">\n",
              "\n",
              "  <div class=\"colab-df-container\">\n",
              "    <button class=\"colab-df-convert\" onclick=\"convertToInteractive('df-110d197b-9f2b-4677-b997-bc0105c7a131')\"\n",
              "            title=\"Convert this dataframe to an interactive table.\"\n",
              "            style=\"display:none;\">\n",
              "\n",
              "  <svg xmlns=\"http://www.w3.org/2000/svg\" height=\"24px\" viewBox=\"0 -960 960 960\">\n",
              "    <path d=\"M120-120v-720h720v720H120Zm60-500h600v-160H180v160Zm220 220h160v-160H400v160Zm0 220h160v-160H400v160ZM180-400h160v-160H180v160Zm440 0h160v-160H620v160ZM180-180h160v-160H180v160Zm440 0h160v-160H620v160Z\"/>\n",
              "  </svg>\n",
              "    </button>\n",
              "\n",
              "  <style>\n",
              "    .colab-df-container {\n",
              "      display:flex;\n",
              "      gap: 12px;\n",
              "    }\n",
              "\n",
              "    .colab-df-convert {\n",
              "      background-color: #E8F0FE;\n",
              "      border: none;\n",
              "      border-radius: 50%;\n",
              "      cursor: pointer;\n",
              "      display: none;\n",
              "      fill: #1967D2;\n",
              "      height: 32px;\n",
              "      padding: 0 0 0 0;\n",
              "      width: 32px;\n",
              "    }\n",
              "\n",
              "    .colab-df-convert:hover {\n",
              "      background-color: #E2EBFA;\n",
              "      box-shadow: 0px 1px 2px rgba(60, 64, 67, 0.3), 0px 1px 3px 1px rgba(60, 64, 67, 0.15);\n",
              "      fill: #174EA6;\n",
              "    }\n",
              "\n",
              "    .colab-df-buttons div {\n",
              "      margin-bottom: 4px;\n",
              "    }\n",
              "\n",
              "    [theme=dark] .colab-df-convert {\n",
              "      background-color: #3B4455;\n",
              "      fill: #D2E3FC;\n",
              "    }\n",
              "\n",
              "    [theme=dark] .colab-df-convert:hover {\n",
              "      background-color: #434B5C;\n",
              "      box-shadow: 0px 1px 3px 1px rgba(0, 0, 0, 0.15);\n",
              "      filter: drop-shadow(0px 1px 2px rgba(0, 0, 0, 0.3));\n",
              "      fill: #FFFFFF;\n",
              "    }\n",
              "  </style>\n",
              "\n",
              "    <script>\n",
              "      const buttonEl =\n",
              "        document.querySelector('#df-110d197b-9f2b-4677-b997-bc0105c7a131 button.colab-df-convert');\n",
              "      buttonEl.style.display =\n",
              "        google.colab.kernel.accessAllowed ? 'block' : 'none';\n",
              "\n",
              "      async function convertToInteractive(key) {\n",
              "        const element = document.querySelector('#df-110d197b-9f2b-4677-b997-bc0105c7a131');\n",
              "        const dataTable =\n",
              "          await google.colab.kernel.invokeFunction('convertToInteractive',\n",
              "                                                    [key], {});\n",
              "        if (!dataTable) return;\n",
              "\n",
              "        const docLinkHtml = 'Like what you see? Visit the ' +\n",
              "          '<a target=\"_blank\" href=https://colab.research.google.com/notebooks/data_table.ipynb>data table notebook</a>'\n",
              "          + ' to learn more about interactive tables.';\n",
              "        element.innerHTML = '';\n",
              "        dataTable['output_type'] = 'display_data';\n",
              "        await google.colab.output.renderOutput(dataTable, element);\n",
              "        const docLink = document.createElement('div');\n",
              "        docLink.innerHTML = docLinkHtml;\n",
              "        element.appendChild(docLink);\n",
              "      }\n",
              "    </script>\n",
              "  </div>\n",
              "\n",
              "\n",
              "<div id=\"df-38cffb50-12ee-46eb-b978-565dce36c899\">\n",
              "  <button class=\"colab-df-quickchart\" onclick=\"quickchart('df-38cffb50-12ee-46eb-b978-565dce36c899')\"\n",
              "            title=\"Suggest charts.\"\n",
              "            style=\"display:none;\">\n",
              "\n",
              "<svg xmlns=\"http://www.w3.org/2000/svg\" height=\"24px\"viewBox=\"0 0 24 24\"\n",
              "     width=\"24px\">\n",
              "    <g>\n",
              "        <path d=\"M19 3H5c-1.1 0-2 .9-2 2v14c0 1.1.9 2 2 2h14c1.1 0 2-.9 2-2V5c0-1.1-.9-2-2-2zM9 17H7v-7h2v7zm4 0h-2V7h2v10zm4 0h-2v-4h2v4z\"/>\n",
              "    </g>\n",
              "</svg>\n",
              "  </button>\n",
              "\n",
              "<style>\n",
              "  .colab-df-quickchart {\n",
              "    background-color: #E8F0FE;\n",
              "    border: none;\n",
              "    border-radius: 50%;\n",
              "    cursor: pointer;\n",
              "    display: none;\n",
              "    fill: #1967D2;\n",
              "    height: 32px;\n",
              "    padding: 0 0 0 0;\n",
              "    width: 32px;\n",
              "  }\n",
              "\n",
              "  .colab-df-quickchart:hover {\n",
              "    background-color: #E2EBFA;\n",
              "    box-shadow: 0px 1px 2px rgba(60, 64, 67, 0.3), 0px 1px 3px 1px rgba(60, 64, 67, 0.15);\n",
              "    fill: #174EA6;\n",
              "  }\n",
              "\n",
              "  [theme=dark] .colab-df-quickchart {\n",
              "    background-color: #3B4455;\n",
              "    fill: #D2E3FC;\n",
              "  }\n",
              "\n",
              "  [theme=dark] .colab-df-quickchart:hover {\n",
              "    background-color: #434B5C;\n",
              "    box-shadow: 0px 1px 3px 1px rgba(0, 0, 0, 0.15);\n",
              "    filter: drop-shadow(0px 1px 2px rgba(0, 0, 0, 0.3));\n",
              "    fill: #FFFFFF;\n",
              "  }\n",
              "</style>\n",
              "\n",
              "  <script>\n",
              "    async function quickchart(key) {\n",
              "      const charts = await google.colab.kernel.invokeFunction(\n",
              "          'suggestCharts', [key], {});\n",
              "    }\n",
              "    (() => {\n",
              "      let quickchartButtonEl =\n",
              "        document.querySelector('#df-38cffb50-12ee-46eb-b978-565dce36c899 button');\n",
              "      quickchartButtonEl.style.display =\n",
              "        google.colab.kernel.accessAllowed ? 'block' : 'none';\n",
              "    })();\n",
              "  </script>\n",
              "</div>\n",
              "    </div>\n",
              "  </div>\n"
            ],
            "text/plain": [
              "                                            FilePath  Tirads\n",
              "0  /content/gdrive/MyDrive/Tirads/Extracted/180_T...       0\n",
              "1  /content/gdrive/MyDrive/Tirads/Extracted/180_T...       0\n",
              "2  /content/gdrive/MyDrive/Tirads/Extracted/180_T...       0\n",
              "3  /content/gdrive/MyDrive/Tirads/Extracted/180_T...       0\n",
              "4  /content/gdrive/MyDrive/Tirads/Extracted/180_T...       0"
            ]
          },
          "execution_count": 263,
          "metadata": {},
          "output_type": "execute_result"
        }
      ],
      "source": [
        "df.head()"
      ]
    },
    {
      "cell_type": "code",
      "execution_count": null,
      "metadata": {
        "colab": {
          "base_uri": "https://localhost:8080/"
        },
        "id": "0anAPkFuJWPc",
        "outputId": "4a9ec919-6394-4ba8-926c-b6c9c76d35e8"
      },
      "outputs": [
        {
          "data": {
            "text/plain": [
              "0    831\n",
              "1    675\n",
              "Name: Tirads, dtype: int64"
            ]
          },
          "execution_count": 264,
          "metadata": {},
          "output_type": "execute_result"
        }
      ],
      "source": [
        "df['Tirads'].value_counts()"
      ]
    },
    {
      "cell_type": "code",
      "execution_count": null,
      "metadata": {
        "id": "x7AKO-yAJwt7"
      },
      "outputs": [],
      "source": [
        "train, test = train_test_split(df, test_size=0.33, random_state=42, stratify=df['Tirads'])\n"
      ]
    },
    {
      "cell_type": "code",
      "execution_count": null,
      "metadata": {
        "colab": {
          "base_uri": "https://localhost:8080/"
        },
        "id": "IgmyxD0WJxqQ",
        "outputId": "71fb75b9-956b-4d13-c016-ee36aea647d2"
      },
      "outputs": [
        {
          "data": {
            "text/plain": [
              "0    557\n",
              "1    452\n",
              "Name: Tirads, dtype: int64"
            ]
          },
          "execution_count": 266,
          "metadata": {},
          "output_type": "execute_result"
        }
      ],
      "source": [
        "train.Tirads.value_counts()"
      ]
    },
    {
      "cell_type": "code",
      "execution_count": null,
      "metadata": {
        "colab": {
          "base_uri": "https://localhost:8080/"
        },
        "id": "WqaBqzY7UCc2",
        "outputId": "8af43195-2e93-4863-b472-ccc07193f758"
      },
      "outputs": [
        {
          "data": {
            "text/plain": [
              "0    274\n",
              "1    223\n",
              "Name: Tirads, dtype: int64"
            ]
          },
          "execution_count": 267,
          "metadata": {},
          "output_type": "execute_result"
        }
      ],
      "source": [
        "test.Tirads.value_counts()"
      ]
    },
    {
      "cell_type": "code",
      "execution_count": null,
      "metadata": {
        "id": "dOV2AK34WqIH"
      },
      "outputs": [],
      "source": [
        "count = 0\n",
        "for i in range(len(train)):\n",
        "  x = train.iloc[i, 0]\n",
        "  y = train.iloc[i, 1]\n",
        "  fileName = x.split('/')[-1]\n",
        "  if y == 0:\n",
        "    move(x, os.path.join(path, 'Extracted', 'train', 'OTHER', fileName))\n",
        "  elif y == 1:\n",
        "    move(x, os.path.join(path, 'Extracted', 'train', 'TIRADS5', fileName))\n"
      ]
    },
    {
      "cell_type": "code",
      "execution_count": null,
      "metadata": {
        "id": "fh0qcaydXyMf"
      },
      "outputs": [],
      "source": [
        "for i in range(len(test)):\n",
        "  x = test.iloc[i, 0]\n",
        "  y = test.iloc[i, 1]\n",
        "  fileName = x.split('/')[-1]\n",
        "  if y == 0:\n",
        "    move(x, os.path.join(path, 'Extracted', 'test', 'OTHER', fileName))\n",
        "  elif y == 1:\n",
        "    move(x, os.path.join(path, 'Extracted', 'test', 'TIRADS5', fileName))"
      ]
    },
    {
      "cell_type": "markdown",
      "metadata": {
        "id": "KnNGxfxYdaMc"
      },
      "source": [
        "# Подготовка данных для модели"
      ]
    },
    {
      "cell_type": "code",
      "execution_count": null,
      "metadata": {
        "id": "XwCdDXbBgIvL"
      },
      "outputs": [],
      "source": [
        "train_dir = '/content/gdrive/MyDrive/Tirads/Extracted/train'\n",
        "test_dir = '/content/gdrive/MyDrive/Tirads/Extracted/test'"
      ]
    },
    {
      "cell_type": "code",
      "execution_count": null,
      "metadata": {
        "colab": {
          "base_uri": "https://localhost:8080/",
          "height": 35
        },
        "id": "gyWwFfWletnu",
        "outputId": "919a12f2-8453-4928-cd6f-cfa3b1a37ac5"
      },
      "outputs": [
        {
          "data": {
            "application/vnd.google.colaboratory.intrinsic+json": {
              "type": "string"
            },
            "text/plain": [
              "'cuda'"
            ]
          },
          "execution_count": 4,
          "metadata": {},
          "output_type": "execute_result"
        }
      ],
      "source": [
        "device = \"cuda\" if torch.cuda.is_available() else \"cpu\"\n",
        "device"
      ]
    },
    {
      "cell_type": "code",
      "execution_count": null,
      "metadata": {
        "colab": {
          "base_uri": "https://localhost:8080/"
        },
        "id": "CNbg7nHWhQjD",
        "outputId": "5481fbc5-cb8b-421e-e5db-ca43fe5cb47c"
      },
      "outputs": [
        {
          "data": {
            "text/plain": [
              "ResNet18_Weights.IMAGENET1K_V1"
            ]
          },
          "execution_count": 5,
          "metadata": {},
          "output_type": "execute_result"
        }
      ],
      "source": [
        "weights = torchvision.models.ResNet18_Weights.DEFAULT\n",
        "weights"
      ]
    },
    {
      "cell_type": "code",
      "execution_count": null,
      "metadata": {
        "colab": {
          "base_uri": "https://localhost:8080/"
        },
        "id": "yGWaqaZ8hUkU",
        "outputId": "ce509817-6417-44f6-c470-d45afb6affa2"
      },
      "outputs": [
        {
          "data": {
            "text/plain": [
              "ImageClassification(\n",
              "    crop_size=[224]\n",
              "    resize_size=[256]\n",
              "    mean=[0.485, 0.456, 0.406]\n",
              "    std=[0.229, 0.224, 0.225]\n",
              "    interpolation=InterpolationMode.BILINEAR\n",
              ")"
            ]
          },
          "execution_count": 6,
          "metadata": {},
          "output_type": "execute_result"
        }
      ],
      "source": [
        "weights.transforms()"
      ]
    },
    {
      "cell_type": "code",
      "execution_count": null,
      "metadata": {
        "id": "56VxDgC1JEWV"
      },
      "outputs": [],
      "source": [
        "transforms_train = transforms.Compose([\n",
        "    transforms.Resize((224, 224)),\n",
        "    transforms.RandomResizedCrop(224),\n",
        "    transforms.RandomHorizontalFlip(),\n",
        "    transforms.ToTensor(),\n",
        "    transforms.Normalize([0.485, 0.456, 0.406], [0.229, 0.224, 0.225])\n",
        "])\n",
        "transforms_test = transforms.Compose([\n",
        "    transforms.Resize((224, 224)),\n",
        "     transforms.CenterCrop((224, 224)),\n",
        "    transforms.ToTensor(),\n",
        "    transforms.Normalize([0.485, 0.456, 0.406], [0.229, 0.224, 0.225])\n",
        "])\n"
      ]
    },
    {
      "cell_type": "code",
      "execution_count": null,
      "metadata": {
        "id": "E1CQ8OYId7UF"
      },
      "outputs": [],
      "source": [
        "transform = weights.transforms()"
      ]
    },
    {
      "cell_type": "code",
      "execution_count": null,
      "metadata": {
        "id": "Ejo6ACnof-jl"
      },
      "outputs": [],
      "source": [
        "train_data = ImageFolder(train_dir, transform=transforms_train)\n",
        "test_data = ImageFolder(test_dir, transform=transforms_test)\n",
        "datasets = {\n",
        "    'train': train_data,\n",
        "    'test': test_data\n",
        "}"
      ]
    },
    {
      "cell_type": "code",
      "execution_count": null,
      "metadata": {
        "colab": {
          "base_uri": "https://localhost:8080/"
        },
        "id": "olErllr-gSxR",
        "outputId": "785cc02c-cfbb-410b-a139-32cea3f68053"
      },
      "outputs": [
        {
          "data": {
            "text/plain": [
              "['OTHER', 'TIRADS5']"
            ]
          },
          "execution_count": 10,
          "metadata": {},
          "output_type": "execute_result"
        }
      ],
      "source": [
        "class_names = train_data.classes\n",
        "class_names"
      ]
    },
    {
      "cell_type": "code",
      "execution_count": null,
      "metadata": {
        "id": "lKxfCCQngWmI"
      },
      "outputs": [],
      "source": [
        "train_dataloader = DataLoader(\n",
        "    train_data,\n",
        "    batch_size=32,\n",
        "    shuffle=True\n",
        ")\n",
        "test_dataloader = DataLoader(\n",
        "    test_data,\n",
        "    batch_size=32,\n",
        "    shuffle=False\n",
        ")\n",
        "\n",
        "dataloaders = {\n",
        "    'train': train_dataloader,\n",
        "    'test': test_dataloader\n",
        "}"
      ]
    },
    {
      "cell_type": "code",
      "execution_count": null,
      "metadata": {
        "colab": {
          "base_uri": "https://localhost:8080/"
        },
        "id": "ULrcq6a7pL9Y",
        "outputId": "6a4ff06f-34b6-41df-f2a6-a5311efd0517"
      },
      "outputs": [
        {
          "data": {
            "text/plain": [
              "{'train': 1009, 'test': 497}"
            ]
          },
          "execution_count": 12,
          "metadata": {},
          "output_type": "execute_result"
        }
      ],
      "source": [
        "dataset_sizes = {x: len(datasets[x]) for x in ['train', 'test']}\n",
        "dataset_sizes"
      ]
    },
    {
      "cell_type": "markdown",
      "metadata": {
        "id": "b32lKV4siwaj"
      },
      "source": [
        "# Resnet 18"
      ]
    },
    {
      "cell_type": "code",
      "execution_count": null,
      "metadata": {
        "id": "_Zhps5Fjg21t"
      },
      "outputs": [],
      "source": [
        "model = torchvision.models.resnet18(weights=weights).to(device)"
      ]
    },
    {
      "cell_type": "code",
      "execution_count": null,
      "metadata": {
        "colab": {
          "base_uri": "https://localhost:8080/"
        },
        "id": "-wutkBxlxolO",
        "outputId": "a1193025-1700-497e-cdab-a1129f6cb9a9"
      },
      "outputs": [
        {
          "data": {
            "text/plain": [
              "512"
            ]
          },
          "execution_count": 48,
          "metadata": {},
          "output_type": "execute_result"
        }
      ],
      "source": [
        "num_features = model.fc.in_features\n",
        "num_features\n"
      ]
    },
    {
      "cell_type": "code",
      "execution_count": null,
      "metadata": {
        "id": "ueBcQxn1KYkp"
      },
      "outputs": [],
      "source": [
        "class FC_layer(nn.Module):\n",
        "    def __init__(self):\n",
        "        super().__init__()\n",
        "        self.linear1=nn.Linear(512, 64)\n",
        "        self.linear2=nn.Linear(64, 2)\n",
        "\n",
        "    def forward(self,x):\n",
        "        x = nn.functional.relu(self.linear1(x))\n",
        "        x = self.linear2(x)\n",
        "        return x"
      ]
    },
    {
      "cell_type": "code",
      "execution_count": null,
      "metadata": {
        "colab": {
          "base_uri": "https://localhost:8080/"
        },
        "id": "OA02ZvbqxXVz",
        "outputId": "fc4ff7de-559d-4d04-89e5-3c680d0c801c"
      },
      "outputs": [
        {
          "data": {
            "text/plain": [
              "FC_layer(\n",
              "  (linear1): Linear(in_features=512, out_features=64, bias=True)\n",
              "  (linear2): Linear(in_features=64, out_features=2, bias=True)\n",
              ")"
            ]
          },
          "execution_count": 50,
          "metadata": {},
          "output_type": "execute_result"
        }
      ],
      "source": [
        "model_ = FC_layer().to(device)\n",
        "model_"
      ]
    },
    {
      "cell_type": "code",
      "execution_count": null,
      "metadata": {
        "colab": {
          "base_uri": "https://localhost:8080/"
        },
        "id": "99ABKvnYxZzb",
        "outputId": "021b63a8-acbd-4351-9873-6bc4ea85eab3"
      },
      "outputs": [
        {
          "data": {
            "text/plain": [
              "FC_layer(\n",
              "  (linear1): Linear(in_features=512, out_features=64, bias=True)\n",
              "  (linear2): Linear(in_features=64, out_features=2, bias=True)\n",
              ")"
            ]
          },
          "execution_count": 51,
          "metadata": {},
          "output_type": "execute_result"
        }
      ],
      "source": [
        "model.fc = model_\n",
        "model.fc"
      ]
    },
    {
      "cell_type": "code",
      "execution_count": null,
      "metadata": {
        "id": "xjAAFX7slGtN"
      },
      "outputs": [],
      "source": [
        "for param in model.parameters():\n",
        "        param.requires_grad = False\n",
        "for param in model.fc.parameters():\n",
        "        param.requires_grad = True"
      ]
    },
    {
      "cell_type": "code",
      "execution_count": null,
      "metadata": {
        "id": "Oot7ht-Ix6bb"
      },
      "outputs": [],
      "source": [
        "loss_fn = nn.CrossEntropyLoss()\n",
        "optimizer = torch.optim.SGD(model.parameters(), lr=0.001, momentum=0.9)\n"
      ]
    },
    {
      "cell_type": "code",
      "execution_count": null,
      "metadata": {
        "colab": {
          "base_uri": "https://localhost:8080/"
        },
        "id": "FTOHPzEZx60M",
        "outputId": "36fa39df-7d09-499b-f86f-4a2b1459b0bb"
      },
      "outputs": [
        {
          "name": "stdout",
          "output_type": "stream",
          "text": [
            "epoch 1/20\n",
            "Training loss: 0.0220, accuracy: 0.5431\n",
            "Validation loss: 0.0226, accuracy: 0.5111\n",
            "epoch 2/20\n",
            "Training loss: 0.0221, accuracy: 0.5471\n",
            "Validation loss: 0.0224, accuracy: 0.5392\n",
            "epoch 3/20\n",
            "Training loss: 0.0217, accuracy: 0.5441\n",
            "Validation loss: 0.0230, accuracy: 0.5513\n",
            "epoch 4/20\n",
            "Training loss: 0.0216, accuracy: 0.5719\n",
            "Validation loss: 0.0221, accuracy: 0.5493\n",
            "epoch 5/20\n",
            "Training loss: 0.0217, accuracy: 0.5540\n",
            "Validation loss: 0.0220, accuracy: 0.5453\n",
            "epoch 6/20\n",
            "Training loss: 0.0215, accuracy: 0.5550\n",
            "Validation loss: 0.0221, accuracy: 0.5453\n",
            "epoch 7/20\n",
            "Training loss: 0.0215, accuracy: 0.5738\n",
            "Validation loss: 0.0218, accuracy: 0.5734\n",
            "epoch 8/20\n",
            "Training loss: 0.0214, accuracy: 0.5689\n",
            "Validation loss: 0.0219, accuracy: 0.5694\n",
            "epoch 9/20\n",
            "Training loss: 0.0212, accuracy: 0.5818\n",
            "Validation loss: 0.0217, accuracy: 0.5694\n",
            "epoch 10/20\n",
            "Training loss: 0.0211, accuracy: 0.5867\n",
            "Validation loss: 0.0217, accuracy: 0.5835\n",
            "epoch 11/20\n",
            "Training loss: 0.0211, accuracy: 0.5798\n",
            "Validation loss: 0.0217, accuracy: 0.5775\n",
            "epoch 12/20\n",
            "Training loss: 0.0211, accuracy: 0.5847\n",
            "Validation loss: 0.0216, accuracy: 0.5795\n",
            "epoch 13/20\n",
            "Training loss: 0.0211, accuracy: 0.5828\n",
            "Validation loss: 0.0214, accuracy: 0.5755\n",
            "epoch 14/20\n",
            "Training loss: 0.0210, accuracy: 0.6056\n",
            "Validation loss: 0.0212, accuracy: 0.5936\n",
            "epoch 15/20\n",
            "Training loss: 0.0211, accuracy: 0.6036\n",
            "Validation loss: 0.0215, accuracy: 0.5815\n",
            "epoch 16/20\n",
            "Training loss: 0.0209, accuracy: 0.6224\n",
            "Validation loss: 0.0211, accuracy: 0.6177\n",
            "epoch 17/20\n",
            "Training loss: 0.0205, accuracy: 0.6184\n",
            "Validation loss: 0.0211, accuracy: 0.6036\n",
            "epoch 18/20\n",
            "Training loss: 0.0205, accuracy: 0.6115\n",
            "Validation loss: 0.0210, accuracy: 0.6076\n",
            "epoch 19/20\n",
            "Training loss: 0.0206, accuracy: 0.6204\n",
            "Validation loss: 0.0213, accuracy: 0.5634\n",
            "epoch 20/20\n",
            "Training loss: 0.0203, accuracy: 0.6174\n",
            "Validation loss: 0.0208, accuracy: 0.6278\n"
          ]
        }
      ],
      "source": [
        "train_accuracy = []\n",
        "val_accuracy = []\n",
        "train_loss = []\n",
        "val_loss = []\n",
        "\n",
        "epochs = 20\n",
        "\n",
        "for epoch in range(epochs):\n",
        "      print(\"epoch {}/{}\".format(epoch+1,epochs))\n",
        "      running_loss = 0.0\n",
        "      running_score = 0.0\n",
        "      model.train()\n",
        "      for image,label in train_dataloader:\n",
        "          image = image.to(device)\n",
        "          label = label.to(device)\n",
        "          optimizer.zero_grad()\n",
        "          y_pred = model.forward(image)\n",
        "          loss = loss_fn(y_pred,label)\n",
        "          loss.backward()\n",
        "          optimizer.step()\n",
        "          val, index_ = torch.max(y_pred,axis=1)\n",
        "          running_score += torch.sum(index_ == label.data).item()\n",
        "          running_loss += loss.item()\n",
        "\n",
        "      epoch_score = running_score/len(train_dataloader.dataset)\n",
        "      epoch_loss = running_loss/len(train_dataloader.dataset)\n",
        "      train_loss.append(epoch_loss)\n",
        "      train_accuracy.append(epoch_score)\n",
        "      print(\"Training loss: {:.4f}, accuracy: {:.4f}\".format(epoch_loss,epoch_score))\n",
        "      with torch.no_grad():\n",
        "          model.eval()\n",
        "          running_loss = 0.0\n",
        "          running_score = 0.0\n",
        "          for image,label in test_dataloader:\n",
        "                image = image.to(device)\n",
        "                label = label.to(device)\n",
        "                optimizer.zero_grad()\n",
        "                y_pred = model.forward(image)\n",
        "                loss = loss_fn(y_pred,label)\n",
        "                running_loss += loss.item()\n",
        "\n",
        "                val, index_ = torch.max(y_pred,axis=1)\n",
        "                running_score += torch.sum(index_ == label.data).item()\n",
        "\n",
        "          epoch_score = running_score/len(test_dataloader.dataset)\n",
        "          epoch_loss = running_loss/len(test_dataloader.dataset)\n",
        "          val_loss.append(epoch_loss)\n",
        "          val_accuracy.append(epoch_score)\n",
        "          print(\"Validation loss: {:.4f}, accuracy: {:.4f}\".format(epoch_loss,epoch_score))\n"
      ]
    },
    {
      "cell_type": "markdown",
      "metadata": {
        "id": "tsGyrJtdrtZ8"
      },
      "source": [
        "# Resnet18 (2.0)"
      ]
    },
    {
      "cell_type": "code",
      "execution_count": null,
      "metadata": {
        "id": "txNadEXvrycG"
      },
      "outputs": [],
      "source": [
        "model = torchvision.models.resnet18(weights=weights).to(device)"
      ]
    },
    {
      "cell_type": "code",
      "execution_count": null,
      "metadata": {
        "colab": {
          "base_uri": "https://localhost:8080/"
        },
        "id": "wZ3iDQr5r0dk",
        "outputId": "01fbd952-c3d7-4496-b0c8-911db214182e"
      },
      "outputs": [
        {
          "name": "stdout",
          "output_type": "stream",
          "text": [
            "10\n"
          ]
        }
      ],
      "source": [
        "count = 0\n",
        "for child in model.children():\n",
        "      count+=1\n",
        "print(count)\n"
      ]
    },
    {
      "cell_type": "code",
      "execution_count": null,
      "metadata": {
        "id": "4-9MtlOjr_s_"
      },
      "outputs": [],
      "source": [
        "count = 0\n",
        "for child in model.children():\n",
        "  count+=1\n",
        "  if count < 7:\n",
        "    for param in child.parameters():\n",
        "        param.requires_grad = False\n"
      ]
    },
    {
      "cell_type": "code",
      "execution_count": null,
      "metadata": {
        "colab": {
          "base_uri": "https://localhost:8080/"
        },
        "id": "nZd-2uzHsO_B",
        "outputId": "6bc25dd8-6927-4ae4-a660-c7951c39bc8e"
      },
      "outputs": [
        {
          "data": {
            "text/plain": [
              "512"
            ]
          },
          "execution_count": 77,
          "metadata": {},
          "output_type": "execute_result"
        }
      ],
      "source": [
        "num_features = model.fc.in_features\n",
        "num_features"
      ]
    },
    {
      "cell_type": "code",
      "execution_count": null,
      "metadata": {
        "id": "10XKW4zuzER1"
      },
      "outputs": [],
      "source": [
        "class FC_layer(nn.Module):\n",
        "    def __init__(self):\n",
        "        super().__init__()\n",
        "        self.linear1=nn.Linear(512, 64)\n",
        "        self.linear2=nn.Linear(64, 2)\n",
        "\n",
        "    def forward(self,x):\n",
        "        x = nn.functional.relu(self.linear1(x))\n",
        "        x = self.linear2(x)\n",
        "        return x"
      ]
    },
    {
      "cell_type": "code",
      "execution_count": null,
      "metadata": {
        "id": "9jzMCawWsGQY"
      },
      "outputs": [],
      "source": [
        "model.fc = FC_layer().to(device)"
      ]
    },
    {
      "cell_type": "code",
      "execution_count": null,
      "metadata": {
        "id": "qIhJqQGCshyP"
      },
      "outputs": [],
      "source": [
        "loss_fn = nn.CrossEntropyLoss()\n",
        "optimizer = torch.optim.Adam(model.parameters(), lr=0.0001)"
      ]
    },
    {
      "cell_type": "code",
      "execution_count": null,
      "metadata": {
        "colab": {
          "base_uri": "https://localhost:8080/"
        },
        "id": "kpA6cKHwsIpZ",
        "outputId": "82688aa8-810e-4400-ab2f-63f91e4523a7"
      },
      "outputs": [
        {
          "name": "stdout",
          "output_type": "stream",
          "text": [
            "epoch 1/20\n",
            "Training loss: 0.0210, accuracy: 0.5788\n",
            "Validation loss: 0.0209, accuracy: 0.5915\n",
            "epoch 2/20\n",
            "Training loss: 0.0185, accuracy: 0.6690\n",
            "Validation loss: 0.0166, accuracy: 0.7767\n",
            "epoch 3/20\n",
            "Training loss: 0.0167, accuracy: 0.7354\n",
            "Validation loss: 0.0158, accuracy: 0.7445\n",
            "epoch 4/20\n",
            "Training loss: 0.0155, accuracy: 0.7403\n",
            "Validation loss: 0.0148, accuracy: 0.7928\n",
            "epoch 5/20\n",
            "Training loss: 0.0143, accuracy: 0.7691\n",
            "Validation loss: 0.0125, accuracy: 0.8249\n",
            "epoch 6/20\n",
            "Training loss: 0.0124, accuracy: 0.8127\n",
            "Validation loss: 0.0119, accuracy: 0.8390\n",
            "epoch 7/20\n",
            "Training loss: 0.0117, accuracy: 0.8404\n",
            "Validation loss: 0.0112, accuracy: 0.8571\n",
            "epoch 8/20\n",
            "Training loss: 0.0110, accuracy: 0.8355\n",
            "Validation loss: 0.0124, accuracy: 0.8249\n",
            "epoch 9/20\n",
            "Training loss: 0.0103, accuracy: 0.8513\n",
            "Validation loss: 0.0115, accuracy: 0.8511\n",
            "epoch 10/20\n",
            "Training loss: 0.0105, accuracy: 0.8503\n",
            "Validation loss: 0.0087, accuracy: 0.8732\n",
            "epoch 11/20\n",
            "Training loss: 0.0097, accuracy: 0.8573\n",
            "Validation loss: 0.0088, accuracy: 0.8753\n",
            "epoch 12/20\n",
            "Training loss: 0.0091, accuracy: 0.8622\n",
            "Validation loss: 0.0119, accuracy: 0.8753\n",
            "epoch 13/20\n",
            "Training loss: 0.0084, accuracy: 0.8702\n",
            "Validation loss: 0.0113, accuracy: 0.8732\n",
            "epoch 14/20\n",
            "Training loss: 0.0082, accuracy: 0.8811\n",
            "Validation loss: 0.0114, accuracy: 0.8813\n",
            "epoch 15/20\n",
            "Training loss: 0.0076, accuracy: 0.8930\n",
            "Validation loss: 0.0065, accuracy: 0.9316\n",
            "epoch 16/20\n",
            "Training loss: 0.0083, accuracy: 0.8771\n",
            "Validation loss: 0.0178, accuracy: 0.8149\n",
            "epoch 17/20\n",
            "Training loss: 0.0077, accuracy: 0.8771\n",
            "Validation loss: 0.0057, accuracy: 0.9336\n",
            "epoch 18/20\n",
            "Training loss: 0.0072, accuracy: 0.8940\n",
            "Validation loss: 0.0082, accuracy: 0.9115\n",
            "epoch 19/20\n",
            "Training loss: 0.0070, accuracy: 0.9068\n",
            "Validation loss: 0.0060, accuracy: 0.9296\n",
            "epoch 20/20\n",
            "Training loss: 0.0073, accuracy: 0.8989\n",
            "Validation loss: 0.0082, accuracy: 0.9054\n"
          ]
        }
      ],
      "source": [
        "train_accuracy = []\n",
        "val_accuracy = []\n",
        "train_loss = []\n",
        "val_loss = []\n",
        "\n",
        "epochs = 20\n",
        "\n",
        "for epoch in range(epochs):\n",
        "      print(\"epoch {}/{}\".format(epoch+1,epochs))\n",
        "      running_loss = 0.0\n",
        "      running_score = 0.0\n",
        "      model.train()\n",
        "      for image,label in train_dataloader:\n",
        "          image = image.to(device)\n",
        "          label = label.to(device)\n",
        "          optimizer.zero_grad()\n",
        "          y_pred = model.forward(image)\n",
        "          loss = loss_fn(y_pred,label)\n",
        "          loss.backward() #calculate derivatives\n",
        "          optimizer.step() # update parameters\n",
        "          val, index_ = torch.max(y_pred,axis=1)\n",
        "          running_score += torch.sum(index_ == label.data).item()\n",
        "          running_loss += loss.item()\n",
        "\n",
        "      epoch_score = running_score/len(train_dataloader.dataset)\n",
        "      epoch_loss = running_loss/len(train_dataloader.dataset)\n",
        "      train_loss.append(epoch_loss)\n",
        "      train_accuracy.append(epoch_score)\n",
        "      print(\"Training loss: {:.4f}, accuracy: {:.4f}\".format(epoch_loss,epoch_score))\n",
        "      with torch.no_grad():\n",
        "          model.eval()\n",
        "          running_loss = 0.0\n",
        "          running_score = 0.0\n",
        "          for image,label in test_dataloader:\n",
        "                image = image.to(device)\n",
        "                label = label.to(device)\n",
        "                optimizer.zero_grad()\n",
        "                y_pred = model.forward(image)\n",
        "                loss = loss_fn(y_pred,label)\n",
        "                running_loss += loss.item()\n",
        "\n",
        "                val, index_ = torch.max(y_pred,axis=1)\n",
        "                running_score += torch.sum(index_ == label.data).item()\n",
        "\n",
        "          epoch_score = running_score/len(test_dataloader.dataset)\n",
        "          epoch_loss = running_loss/len(test_dataloader.dataset)\n",
        "          val_loss.append(epoch_loss)\n",
        "          val_accuracy.append(epoch_score)\n",
        "          print(\"Validation loss: {:.4f}, accuracy: {:.4f}\".format(epoch_loss,epoch_score))\n"
      ]
    },
    {
      "cell_type": "code",
      "execution_count": null,
      "metadata": {
        "id": "0fyYF2yi3yH_"
      },
      "outputs": [],
      "source": [
        "torch.save(model.state_dict(), '/content/gdrive/MyDrive/Tirads/Tirads5_best.pth')"
      ]
    },
    {
      "cell_type": "markdown",
      "metadata": {
        "id": "WmDPLDXb7OOl"
      },
      "source": [
        "#Графики"
      ]
    },
    {
      "cell_type": "code",
      "execution_count": null,
      "metadata": {
        "colab": {
          "base_uri": "https://localhost:8080/"
        },
        "id": "BmIPWXHssko-",
        "outputId": "d80594a7-f28a-4e8d-f5e6-52b7ce45b376"
      },
      "outputs": [
        {
          "name": "stdout",
          "output_type": "stream",
          "text": [
            "0.578790882061447 0.6689791873141725 0.7353815659068385 0.7403369672943508 0.7690782953419227 0.8126858275520317 0.8404360753221011 0.8354806739345887 0.8513379583746283 0.8503468780971258 0.8572844400396432 0.8622398414271556 0.8701684836471755 0.8810703666997026 0.8929633300297324 0.8771060455896927 0.8771060455896927 0.8939544103072349 0.9068384539147671 0.8989098116947473\n",
            "0.5915492957746479 0.7766599597585513 0.744466800804829 0.7927565392354124 0.8249496981891348 0.8390342052313883 0.8571428571428571 0.8249496981891348 0.8511066398390342 0.8732394366197183 0.8752515090543259 0.8752515090543259 0.8732394366197183 0.8812877263581489 0.93158953722334 0.8148893360160966 0.9336016096579477 0.9114688128772636 0.9295774647887324 0.9054325955734407\n",
            "0.020989761243844766 0.01854305180496692 0.016732285085352964 0.015478996030166671 0.01427210251569039 0.012362779220575383 0.011687702020285032 0.011003648945314089 0.010304539952689285 0.010513968123316883 0.00973735582101924 0.009083453266778951 0.008399150490288219 0.008170251567488974 0.007646762255516468 0.0082522666430686 0.0076648607495636845 0.007165044878412876 0.007005426984712319 0.0073497639110586925\n",
            "0.020906583883872693 0.01662987644523682 0.015812489558273638 0.014815659740081496 0.01245276734862529 0.011908475721865833 0.011197738746702072 0.012358530257759199 0.011530271853119795 0.00869473730264535 0.008808825367413297 0.01189076180159446 0.0112938348867254 0.01135326716467978 0.006525168217853521 0.017799304213592226 0.005727235257805473 0.008229834955163166 0.005956069459497808 0.008231518657079764\n"
          ]
        }
      ],
      "source": [
        "print(*train_accuracy)\n",
        "print(*val_accuracy)\n",
        "print(*train_loss)\n",
        "print(*val_loss)"
      ]
    },
    {
      "cell_type": "code",
      "execution_count": null,
      "metadata": {
        "colab": {
          "base_uri": "https://localhost:8080/"
        },
        "id": "hjPhw1PIxLPO",
        "outputId": "516f47e6-c6b1-41a2-86c3-53705a132a3a"
      },
      "outputs": [
        {
          "name": "stdout",
          "output_type": "stream",
          "text": [
            "0.57 0.66 0.73 0.74 0.76 0.81 0.84 0.83 0.85 0.85 0.85 0.86 0.87 0.88 0.89 0.87 0.87 0.89 0.9 0.89\n",
            "0.59 0.77 0.74 0.79 0.82 0.83 0.85 0.82 0.85 0.87 0.87 0.87 0.87 0.88 0.93 0.81 0.93 0.91 0.92 0.9\n",
            "0.0209 0.0185 0.0167 0.0154 0.0142 0.0123 0.0116 0.011 0.0103 0.0105 0.0097 0.009 0.0083 0.0081 0.0076 0.0082 0.0076 0.0071 0.007 0.0073\n",
            "0.0209 0.0166 0.0158 0.0148 0.0124 0.0119 0.0111 0.0123 0.0115 0.0086 0.0088 0.0118 0.0112 0.0113 0.0065 0.0177 0.0057 0.0082 0.0059 0.0082\n"
          ]
        }
      ],
      "source": [
        "train_accuracy_short = list(map(lambda x: int(x*100)/100, train_accuracy))\n",
        "val_accuracy_short = list(map(lambda x: int(x*100)/100, val_accuracy))\n",
        "train_loss_short = list(map(lambda x: int(x*10000)/10000, train_loss))\n",
        "val_loss_short = list(map(lambda x: int(x*10000)/10000, val_loss))\n",
        "print(*train_accuracy_short)\n",
        "print(*val_accuracy_short)\n",
        "print(*train_loss_short)\n",
        "print(*val_loss_short)"
      ]
    },
    {
      "cell_type": "code",
      "execution_count": null,
      "metadata": {
        "colab": {
          "base_uri": "https://localhost:8080/",
          "height": 472
        },
        "id": "QCR3BQEE2QXD",
        "outputId": "bd5297cb-4f44-4f35-9f7e-9b3a1b362ed0"
      },
      "outputs": [
        {
          "data": {
            "image/png": "[encoded data removed]",
            "text/plain": [
              "<Figure size 640x480 with 1 Axes>"
            ]
          },
          "metadata": {},
          "output_type": "display_data"
        }
      ],
      "source": [
        "num_epochs = range(1,21)\n",
        "plt.plot(num_epochs, train_loss_short, label='train loss')\n",
        "plt.plot(num_epochs, val_loss_short, label='validation loss')\n",
        "\n",
        "plt.xticks(range(0, 21, 2))\n",
        "\n",
        "plt.title('Training and Validation Loss')\n",
        "\n",
        "plt.xlabel('Epochs')\n",
        "plt.ylabel('Loss')\n",
        "\n",
        "plt.legend(loc='best')\n",
        "plt.show()"
      ]
    },
    {
      "cell_type": "code",
      "execution_count": null,
      "metadata": {
        "colab": {
          "base_uri": "https://localhost:8080/",
          "height": 472
        },
        "id": "XD-qtmDG8xPX",
        "outputId": "d9dd8e32-e4b7-4620-fa0f-67e67c6a35a0"
      },
      "outputs": [
        {
          "data": {
            "image/png": "[encoded data removed]",
            "text/plain": [
              "<Figure size 640x480 with 1 Axes>"
            ]
          },
          "metadata": {},
          "output_type": "display_data"
        }
      ],
      "source": [
        "num_epochs = range(1,21)\n",
        "plt.plot(num_epochs, train_accuracy_short, label='train accuracy')\n",
        "plt.plot(num_epochs, val_accuracy_short, label='validation accuracy')\n",
        "\n",
        "plt.xticks(range(0, 21, 2))\n",
        "\n",
        "plt.title('Training and Validation accuracy')\n",
        "\n",
        "plt.xlabel('Epochs')\n",
        "plt.ylabel('Loss')\n",
        "\n",
        "plt.legend(loc='best')\n",
        "plt.show()"
      ]
    },
    {
      "cell_type": "code",
      "execution_count": null,
      "metadata": {
        "id": "COnMBw71-ITg"
      },
      "outputs": [],
      "source": []
    }
  ],
  "metadata": {
    "accelerator": "GPU",
    "colab": {
      "collapsed_sections": [
        "-m72sjhZ_21l",
        "RqcQoulf25F8",
        "xPGOG8uvUZw0"
      ],
      "provenance": []
    },
    "kernelspec": {
      "display_name": "Python 3",
      "name": "python3"
    },
    "language_info": {
      "name": "python"
    }
  },
  "nbformat": 4,
  "nbformat_minor": 0
}
